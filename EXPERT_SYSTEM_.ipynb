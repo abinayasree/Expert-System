{
  "nbformat": 4,
  "nbformat_minor": 0,
  "metadata": {
    "colab": {
      "provenance": [],
      "authorship_tag": "ABX9TyPWaMGnwHoaMytTR0ValYQD",
      "include_colab_link": true
    },
    "kernelspec": {
      "name": "python3",
      "display_name": "Python 3"
    },
    "language_info": {
      "name": "python"
    }
  },
  "cells": [
    {
      "cell_type": "markdown",
      "metadata": {
        "id": "view-in-github",
        "colab_type": "text"
      },
      "source": [
        "<a href=\"https://colab.research.google.com/github/abinayasree/Expert-System/blob/main/EXPERT_SYSTEM_.ipynb\" target=\"_parent\"><img src=\"https://colab.research.google.com/assets/colab-badge.svg\" alt=\"Open In Colab\"/></a>"
      ]
    },
    {
      "cell_type": "code",
      "execution_count": 7,
      "metadata": {
        "id": "BERQOVjwKLDE",
        "colab": {
          "base_uri": "https://localhost:8080/"
        },
        "outputId": "8d3421b6-e913-4ccb-9ba4-64e4dcf49338"
      },
      "outputs": [
        {
          "output_type": "stream",
          "name": "stdout",
          "text": [
            "Finding the best option to put on bread\n",
            "do you like jelly? Y/Nyes\n",
            "are you allergic to peanuts? Y/Nno\n",
            "i'm having a hard time deciding the side, so we'll have it at random\n",
            "blackcurrant jam WOULD BE BEST!\n"
          ]
        }
      ],
      "source": [
        "import random\n",
        "\n",
        "print(\"Finding the best option to put on bread\")\n",
        "\n",
        "Q1= input(\"do you like jelly? Y/N\")\n",
        "Q2= input(\"are you allergic to peanuts? Y/N\")\n",
        "\n",
        "#yes and no \n",
        "if Q1 in [\"Yes\", 'YES', \"yes\"] and Q2 in [\"NO\", \"No\", \"no\"]:\n",
        "  print(\"i'm having a hard time deciding the side, so we'll have it at random\")\n",
        "  s=[\"blackcurrant jam\", \"Peanut butter\", \"strawberry jam\"]\n",
        "  print(random.choice(s), \"WOULD BE BEST!\")\n",
        "\n",
        "#no and yes\n",
        "elif Q1 in [\"NO\", \"No\", \"no\"] and Q2 in [\"Yes\", 'YES', \"yes\"]:\n",
        "  print(\"You'll stick to butter eh?\")\n",
        "\n",
        "#no for both questions\n",
        "elif Q1 in [\"NO\", \"No\", \"no\"] and Q2 in [\"NO\", \"No\", \"no\"]:\n",
        "  print(\"i think you'll like peanut butter!\")\n",
        "\n",
        "#yes for both questions\n",
        "elif Q1 in [\"Yes\", 'YES', \"yes\"] and Q2 in [\"Yes\", 'YES', \"yes\"]:\n",
        "  print(\"You're a fruit jam person like me!\")\n",
        "\n",
        "else: \n",
        "  print(\"Oops wrong input\")\n"
      ]
    }
  ]
}